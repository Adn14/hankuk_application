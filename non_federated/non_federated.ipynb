{
  "nbformat": 4,
  "nbformat_minor": 0,
  "metadata": {
    "colab": {
      "name": "hankuk classify.ipynb",
      "provenance": []
    },
    "kernelspec": {
      "name": "python3",
      "display_name": "Python 3"
    }
  },
  "cells": [
    {
      "cell_type": "code",
      "metadata": {
        "id": "AykoUylOiLHY",
        "outputId": "93add397-f5c5-4726-e420-f03b8710f5c6",
        "colab": {
          "base_uri": "https://localhost:8080/"
        }
      },
      "source": [
        "from google.colab import drive\n",
        "\n",
        "drive.mount('/content/gdrive')"
      ],
      "execution_count": 2,
      "outputs": [
        {
          "output_type": "stream",
          "text": [
            "Mounted at /content/gdrive\n"
          ],
          "name": "stdout"
        }
      ]
    },
    {
      "cell_type": "code",
      "metadata": {
        "id": "hlw0JVAuissE"
      },
      "source": [
        "import pandas as pd"
      ],
      "execution_count": 3,
      "outputs": []
    },
    {
      "cell_type": "code",
      "metadata": {
        "id": "pIRa2kRdiwG0"
      },
      "source": [
        "df = pd.read_csv(\"/content/gdrive/My Drive/hankuk/mHealth_subject1.csv\", header=None)"
      ],
      "execution_count": 4,
      "outputs": []
    },
    {
      "cell_type": "code",
      "metadata": {
        "id": "4FttSIhCi8lO"
      },
      "source": [
        "for i in range(2,9):\n",
        "  df2 = pd.read_csv(\"/content/gdrive/My Drive/hankuk/mHealth_subject\" + str(i) +\".csv\", header=None)\n",
        "  df.append(df2)"
      ],
      "execution_count": 5,
      "outputs": []
    },
    {
      "cell_type": "code",
      "metadata": {
        "id": "BqAbf99ekGAA"
      },
      "source": [
        "dataset = df.values"
      ],
      "execution_count": 6,
      "outputs": []
    },
    {
      "cell_type": "code",
      "metadata": {
        "id": "YdX0ggUnvrw5"
      },
      "source": [
        "y_ohe = df[21]"
      ],
      "execution_count": 7,
      "outputs": []
    },
    {
      "cell_type": "code",
      "metadata": {
        "id": "mDU5LZCbvwh7"
      },
      "source": [
        "y_ohe = pd.get_dummies(y_ohe)"
      ],
      "execution_count": 8,
      "outputs": []
    },
    {
      "cell_type": "code",
      "metadata": {
        "id": "5rtOeHv1v8qj"
      },
      "source": [
        "Y = y_ohe.values"
      ],
      "execution_count": 10,
      "outputs": []
    },
    {
      "cell_type": "code",
      "metadata": {
        "id": "PxpAAUR9kn2q"
      },
      "source": [
        "X = dataset[:, 0:21]\n",
        "Y = Y[:,:]"
      ],
      "execution_count": 12,
      "outputs": []
    },
    {
      "cell_type": "code",
      "metadata": {
        "id": "Ynfnyj3_l1oL"
      },
      "source": [
        "from sklearn.model_selection import train_test_split\n",
        "\n",
        "X_train, X_val_and_test, Y_train, Y_val_and_test = train_test_split(X, Y, test_size=0.3)\n",
        "X_val, X_test, Y_val, Y_test = train_test_split(X_val_and_test, Y_val_and_test, test_size=0.5)"
      ],
      "execution_count": 15,
      "outputs": []
    },
    {
      "cell_type": "code",
      "metadata": {
        "id": "pFNzUbkMmbev",
        "outputId": "f480cc78-0cce-4ded-b4e1-2121d88cbddd",
        "colab": {
          "base_uri": "https://localhost:8080/"
        }
      },
      "source": [
        "print(X_train.shape, X_val.shape, X_test.shape, Y_train.shape, Y_val.shape, Y_test.shape)"
      ],
      "execution_count": 16,
      "outputs": [
        {
          "output_type": "stream",
          "text": [
            "(101176, 21) (21681, 21) (21681, 21) (101176, 7) (21681, 7) (21681, 7)\n"
          ],
          "name": "stdout"
        }
      ]
    },
    {
      "cell_type": "code",
      "metadata": {
        "id": "Ch1mVndvoP0l"
      },
      "source": [
        "from keras.models import Sequential\n",
        "from keras.layers import Dense"
      ],
      "execution_count": 17,
      "outputs": []
    },
    {
      "cell_type": "code",
      "metadata": {
        "id": "JH-e7mxIpn0p"
      },
      "source": [
        "from keras import backend as K\n",
        "\n",
        "def recall_m(y_true, y_pred):\n",
        "    true_positives = K.sum(K.round(K.clip(y_true * y_pred, 0, 1)))\n",
        "    possible_positives = K.sum(K.round(K.clip(y_true, 0, 1)))\n",
        "    recall = true_positives / (possible_positives + K.epsilon())\n",
        "    return recall\n",
        "\n",
        "def precision_m(y_true, y_pred):\n",
        "    true_positives = K.sum(K.round(K.clip(y_true * y_pred, 0, 1)))\n",
        "    predicted_positives = K.sum(K.round(K.clip(y_pred, 0, 1)))\n",
        "    precision = true_positives / (predicted_positives + K.epsilon())\n",
        "    return precision\n",
        "\n",
        "def f1_m(y_true, y_pred):\n",
        "    precision = precision_m(y_true, y_pred)\n",
        "    recall = recall_m(y_true, y_pred)\n",
        "    return 2*((precision*recall)/(precision+recall+K.epsilon()))\n",
        "\n",
        "model = Sequential([    \n",
        "                    Dense(32, activation='relu', input_shape=(21,)),    \n",
        "                    Dense(32, activation='relu'), \n",
        "                    Dense(64, activation='relu'), \n",
        "                    Dense(32, activation='relu'),       \n",
        "                    Dense(7, activation='softmax'),])\n",
        "model.compile(optimizer='sgd',              \n",
        "              loss='binary_crossentropy',              \n",
        "              metrics=['accuracy', f1_m, precision_m, recall_m])"
      ],
      "execution_count": 18,
      "outputs": []
    },
    {
      "cell_type": "code",
      "metadata": {
        "id": "gax8m-lGp_Tv",
        "outputId": "49d4a397-69bf-42ff-eb5e-6666d13ad5e7",
        "colab": {
          "base_uri": "https://localhost:8080/"
        }
      },
      "source": [
        "hist = model.fit(X_train, Y_train,          \n",
        "                 batch_size=32, epochs=100,          \n",
        "                 validation_data=(X_val, Y_val))"
      ],
      "execution_count": 19,
      "outputs": [
        {
          "output_type": "stream",
          "text": [
            "Epoch 1/100\n",
            "3162/3162 [==============================] - 4s 1ms/step - loss: 0.1404 - accuracy: 0.8762 - f1_m: 0.8655 - precision_m: 0.8847 - recall_m: 0.8500 - val_loss: 0.0954 - val_accuracy: 0.8848 - val_f1_m: 0.8874 - val_precision_m: 0.9049 - val_recall_m: 0.8710\n",
            "Epoch 2/100\n",
            "3162/3162 [==============================] - 4s 1ms/step - loss: 0.0822 - accuracy: 0.8991 - f1_m: 0.8973 - precision_m: 0.9134 - recall_m: 0.8822 - val_loss: 0.0811 - val_accuracy: 0.9025 - val_f1_m: 0.8964 - val_precision_m: 0.9127 - val_recall_m: 0.8811\n",
            "Epoch 3/100\n",
            "3162/3162 [==============================] - 4s 1ms/step - loss: 0.0701 - accuracy: 0.9111 - f1_m: 0.9087 - precision_m: 0.9160 - recall_m: 0.9017 - val_loss: 0.0690 - val_accuracy: 0.9092 - val_f1_m: 0.9084 - val_precision_m: 0.9132 - val_recall_m: 0.9037\n",
            "Epoch 4/100\n",
            "3162/3162 [==============================] - 5s 1ms/step - loss: 0.0642 - accuracy: 0.9128 - f1_m: 0.9124 - precision_m: 0.9161 - recall_m: 0.9088 - val_loss: 0.0639 - val_accuracy: 0.9115 - val_f1_m: 0.9112 - val_precision_m: 0.9142 - val_recall_m: 0.9083\n",
            "Epoch 5/100\n",
            "3162/3162 [==============================] - 5s 1ms/step - loss: 0.0601 - accuracy: 0.9157 - f1_m: 0.9153 - precision_m: 0.9203 - recall_m: 0.9105 - val_loss: 0.0596 - val_accuracy: 0.9155 - val_f1_m: 0.9156 - val_precision_m: 0.9201 - val_recall_m: 0.9114\n",
            "Epoch 6/100\n",
            "3162/3162 [==============================] - 4s 1ms/step - loss: 0.0567 - accuracy: 0.9219 - f1_m: 0.9213 - precision_m: 0.9275 - recall_m: 0.9154 - val_loss: 0.0586 - val_accuracy: 0.9264 - val_f1_m: 0.9257 - val_precision_m: 0.9307 - val_recall_m: 0.9210\n",
            "Epoch 7/100\n",
            "3162/3162 [==============================] - 4s 1ms/step - loss: 0.0544 - accuracy: 0.9270 - f1_m: 0.9265 - precision_m: 0.9305 - recall_m: 0.9226 - val_loss: 0.0550 - val_accuracy: 0.9252 - val_f1_m: 0.9252 - val_precision_m: 0.9281 - val_recall_m: 0.9223\n",
            "Epoch 8/100\n",
            "3162/3162 [==============================] - 4s 1ms/step - loss: 0.0524 - accuracy: 0.9288 - f1_m: 0.9286 - precision_m: 0.9315 - recall_m: 0.9259 - val_loss: 0.0544 - val_accuracy: 0.9273 - val_f1_m: 0.9274 - val_precision_m: 0.9300 - val_recall_m: 0.9249\n",
            "Epoch 9/100\n",
            "3162/3162 [==============================] - 4s 1ms/step - loss: 0.0510 - accuracy: 0.9311 - f1_m: 0.9307 - precision_m: 0.9333 - recall_m: 0.9283 - val_loss: 0.0523 - val_accuracy: 0.9303 - val_f1_m: 0.9299 - val_precision_m: 0.9318 - val_recall_m: 0.9281\n",
            "Epoch 10/100\n",
            "3162/3162 [==============================] - 4s 1ms/step - loss: 0.0497 - accuracy: 0.9318 - f1_m: 0.9315 - precision_m: 0.9338 - recall_m: 0.9294 - val_loss: 0.0530 - val_accuracy: 0.9280 - val_f1_m: 0.9277 - val_precision_m: 0.9302 - val_recall_m: 0.9252\n",
            "Epoch 11/100\n",
            "3162/3162 [==============================] - 4s 1ms/step - loss: 0.0486 - accuracy: 0.9322 - f1_m: 0.9321 - precision_m: 0.9343 - recall_m: 0.9300 - val_loss: 0.0518 - val_accuracy: 0.9286 - val_f1_m: 0.9290 - val_precision_m: 0.9312 - val_recall_m: 0.9269\n",
            "Epoch 12/100\n",
            "3162/3162 [==============================] - 4s 1ms/step - loss: 0.0477 - accuracy: 0.9329 - f1_m: 0.9328 - precision_m: 0.9347 - recall_m: 0.9309 - val_loss: 0.0526 - val_accuracy: 0.9282 - val_f1_m: 0.9278 - val_precision_m: 0.9305 - val_recall_m: 0.9251\n",
            "Epoch 13/100\n",
            "3162/3162 [==============================] - 4s 1ms/step - loss: 0.0467 - accuracy: 0.9335 - f1_m: 0.9334 - precision_m: 0.9352 - recall_m: 0.9317 - val_loss: 0.0503 - val_accuracy: 0.9295 - val_f1_m: 0.9290 - val_precision_m: 0.9316 - val_recall_m: 0.9266\n",
            "Epoch 14/100\n",
            "3162/3162 [==============================] - 4s 1ms/step - loss: 0.0459 - accuracy: 0.9346 - f1_m: 0.9344 - precision_m: 0.9362 - recall_m: 0.9326 - val_loss: 0.0485 - val_accuracy: 0.9323 - val_f1_m: 0.9323 - val_precision_m: 0.9337 - val_recall_m: 0.9310\n",
            "Epoch 15/100\n",
            "3162/3162 [==============================] - 4s 1ms/step - loss: 0.0453 - accuracy: 0.9357 - f1_m: 0.9354 - precision_m: 0.9370 - recall_m: 0.9339 - val_loss: 0.0474 - val_accuracy: 0.9318 - val_f1_m: 0.9319 - val_precision_m: 0.9335 - val_recall_m: 0.9303\n",
            "Epoch 16/100\n",
            "3162/3162 [==============================] - 4s 1ms/step - loss: 0.0446 - accuracy: 0.9365 - f1_m: 0.9365 - precision_m: 0.9380 - recall_m: 0.9351 - val_loss: 0.0469 - val_accuracy: 0.9341 - val_f1_m: 0.9339 - val_precision_m: 0.9358 - val_recall_m: 0.9320\n",
            "Epoch 17/100\n",
            "3162/3162 [==============================] - 4s 1ms/step - loss: 0.0441 - accuracy: 0.9371 - f1_m: 0.9370 - precision_m: 0.9383 - recall_m: 0.9357 - val_loss: 0.0458 - val_accuracy: 0.9361 - val_f1_m: 0.9358 - val_precision_m: 0.9374 - val_recall_m: 0.9342\n",
            "Epoch 18/100\n",
            "3162/3162 [==============================] - 4s 1ms/step - loss: 0.0435 - accuracy: 0.9376 - f1_m: 0.9376 - precision_m: 0.9389 - recall_m: 0.9365 - val_loss: 0.0462 - val_accuracy: 0.9344 - val_f1_m: 0.9343 - val_precision_m: 0.9354 - val_recall_m: 0.9331\n",
            "Epoch 19/100\n",
            "3162/3162 [==============================] - 4s 1ms/step - loss: 0.0429 - accuracy: 0.9381 - f1_m: 0.9380 - precision_m: 0.9392 - recall_m: 0.9369 - val_loss: 0.0484 - val_accuracy: 0.9343 - val_f1_m: 0.9338 - val_precision_m: 0.9355 - val_recall_m: 0.9322\n",
            "Epoch 20/100\n",
            "3162/3162 [==============================] - 4s 1ms/step - loss: 0.0424 - accuracy: 0.9395 - f1_m: 0.9395 - precision_m: 0.9405 - recall_m: 0.9385 - val_loss: 0.0466 - val_accuracy: 0.9340 - val_f1_m: 0.9337 - val_precision_m: 0.9347 - val_recall_m: 0.9327\n",
            "Epoch 21/100\n",
            "3162/3162 [==============================] - 4s 1ms/step - loss: 0.0421 - accuracy: 0.9393 - f1_m: 0.9392 - precision_m: 0.9401 - recall_m: 0.9383 - val_loss: 0.0446 - val_accuracy: 0.9365 - val_f1_m: 0.9364 - val_precision_m: 0.9370 - val_recall_m: 0.9359\n",
            "Epoch 22/100\n",
            "3162/3162 [==============================] - 4s 1ms/step - loss: 0.0417 - accuracy: 0.9401 - f1_m: 0.9401 - precision_m: 0.9410 - recall_m: 0.9392 - val_loss: 0.0450 - val_accuracy: 0.9349 - val_f1_m: 0.9349 - val_precision_m: 0.9356 - val_recall_m: 0.9342\n",
            "Epoch 23/100\n",
            "3162/3162 [==============================] - 4s 1ms/step - loss: 0.0412 - accuracy: 0.9409 - f1_m: 0.9408 - precision_m: 0.9417 - recall_m: 0.9399 - val_loss: 0.0437 - val_accuracy: 0.9395 - val_f1_m: 0.9395 - val_precision_m: 0.9403 - val_recall_m: 0.9387\n",
            "Epoch 24/100\n",
            "3162/3162 [==============================] - 4s 1ms/step - loss: 0.0408 - accuracy: 0.9413 - f1_m: 0.9412 - precision_m: 0.9420 - recall_m: 0.9405 - val_loss: 0.0431 - val_accuracy: 0.9393 - val_f1_m: 0.9392 - val_precision_m: 0.9401 - val_recall_m: 0.9383\n",
            "Epoch 25/100\n",
            "3162/3162 [==============================] - 4s 1ms/step - loss: 0.0404 - accuracy: 0.9416 - f1_m: 0.9416 - precision_m: 0.9423 - recall_m: 0.9409 - val_loss: 0.0440 - val_accuracy: 0.9395 - val_f1_m: 0.9396 - val_precision_m: 0.9402 - val_recall_m: 0.9391\n",
            "Epoch 26/100\n",
            "3162/3162 [==============================] - 4s 1ms/step - loss: 0.0402 - accuracy: 0.9422 - f1_m: 0.9422 - precision_m: 0.9429 - recall_m: 0.9415 - val_loss: 0.0444 - val_accuracy: 0.9376 - val_f1_m: 0.9376 - val_precision_m: 0.9381 - val_recall_m: 0.9371\n",
            "Epoch 27/100\n",
            "3162/3162 [==============================] - 4s 1ms/step - loss: 0.0398 - accuracy: 0.9424 - f1_m: 0.9424 - precision_m: 0.9431 - recall_m: 0.9418 - val_loss: 0.0457 - val_accuracy: 0.9354 - val_f1_m: 0.9353 - val_precision_m: 0.9360 - val_recall_m: 0.9346\n",
            "Epoch 28/100\n",
            "3162/3162 [==============================] - 4s 1ms/step - loss: 0.0395 - accuracy: 0.9424 - f1_m: 0.9423 - precision_m: 0.9429 - recall_m: 0.9418 - val_loss: 0.0427 - val_accuracy: 0.9394 - val_f1_m: 0.9393 - val_precision_m: 0.9401 - val_recall_m: 0.9385\n",
            "Epoch 29/100\n",
            "3162/3162 [==============================] - 4s 1ms/step - loss: 0.0391 - accuracy: 0.9434 - f1_m: 0.9434 - precision_m: 0.9439 - recall_m: 0.9428 - val_loss: 0.0411 - val_accuracy: 0.9425 - val_f1_m: 0.9423 - val_precision_m: 0.9429 - val_recall_m: 0.9417\n",
            "Epoch 30/100\n",
            "3162/3162 [==============================] - 4s 1ms/step - loss: 0.0389 - accuracy: 0.9443 - f1_m: 0.9442 - precision_m: 0.9447 - recall_m: 0.9437 - val_loss: 0.0424 - val_accuracy: 0.9402 - val_f1_m: 0.9400 - val_precision_m: 0.9406 - val_recall_m: 0.9394\n",
            "Epoch 31/100\n",
            "3162/3162 [==============================] - 4s 1ms/step - loss: 0.0386 - accuracy: 0.9434 - f1_m: 0.9434 - precision_m: 0.9440 - recall_m: 0.9429 - val_loss: 0.0413 - val_accuracy: 0.9412 - val_f1_m: 0.9412 - val_precision_m: 0.9417 - val_recall_m: 0.9408\n",
            "Epoch 32/100\n",
            "3162/3162 [==============================] - 4s 1ms/step - loss: 0.0383 - accuracy: 0.9442 - f1_m: 0.9442 - precision_m: 0.9448 - recall_m: 0.9436 - val_loss: 0.0406 - val_accuracy: 0.9424 - val_f1_m: 0.9424 - val_precision_m: 0.9428 - val_recall_m: 0.9421\n",
            "Epoch 33/100\n",
            "3162/3162 [==============================] - 4s 1ms/step - loss: 0.0379 - accuracy: 0.9454 - f1_m: 0.9453 - precision_m: 0.9459 - recall_m: 0.9448 - val_loss: 0.0410 - val_accuracy: 0.9432 - val_f1_m: 0.9430 - val_precision_m: 0.9433 - val_recall_m: 0.9427\n",
            "Epoch 34/100\n",
            "3162/3162 [==============================] - 4s 1ms/step - loss: 0.0377 - accuracy: 0.9457 - f1_m: 0.9456 - precision_m: 0.9461 - recall_m: 0.9452 - val_loss: 0.0408 - val_accuracy: 0.9429 - val_f1_m: 0.9427 - val_precision_m: 0.9433 - val_recall_m: 0.9422\n",
            "Epoch 35/100\n",
            "3162/3162 [==============================] - 4s 1ms/step - loss: 0.0376 - accuracy: 0.9456 - f1_m: 0.9456 - precision_m: 0.9460 - recall_m: 0.9451 - val_loss: 0.0405 - val_accuracy: 0.9436 - val_f1_m: 0.9435 - val_precision_m: 0.9440 - val_recall_m: 0.9431\n",
            "Epoch 36/100\n",
            "3162/3162 [==============================] - 4s 1ms/step - loss: 0.0374 - accuracy: 0.9453 - f1_m: 0.9452 - precision_m: 0.9456 - recall_m: 0.9448 - val_loss: 0.0420 - val_accuracy: 0.9429 - val_f1_m: 0.9428 - val_precision_m: 0.9435 - val_recall_m: 0.9421\n",
            "Epoch 37/100\n",
            "3162/3162 [==============================] - 4s 1ms/step - loss: 0.0371 - accuracy: 0.9459 - f1_m: 0.9459 - precision_m: 0.9464 - recall_m: 0.9455 - val_loss: 0.0397 - val_accuracy: 0.9449 - val_f1_m: 0.9450 - val_precision_m: 0.9454 - val_recall_m: 0.9446\n",
            "Epoch 38/100\n",
            "3162/3162 [==============================] - 4s 1ms/step - loss: 0.0370 - accuracy: 0.9460 - f1_m: 0.9461 - precision_m: 0.9465 - recall_m: 0.9457 - val_loss: 0.0400 - val_accuracy: 0.9438 - val_f1_m: 0.9439 - val_precision_m: 0.9443 - val_recall_m: 0.9434\n",
            "Epoch 39/100\n",
            "3162/3162 [==============================] - 4s 1ms/step - loss: 0.0365 - accuracy: 0.9466 - f1_m: 0.9466 - precision_m: 0.9470 - recall_m: 0.9463 - val_loss: 0.0424 - val_accuracy: 0.9418 - val_f1_m: 0.9417 - val_precision_m: 0.9420 - val_recall_m: 0.9415\n",
            "Epoch 40/100\n",
            "3162/3162 [==============================] - 4s 1ms/step - loss: 0.0365 - accuracy: 0.9464 - f1_m: 0.9464 - precision_m: 0.9467 - recall_m: 0.9461 - val_loss: 0.0414 - val_accuracy: 0.9438 - val_f1_m: 0.9439 - val_precision_m: 0.9442 - val_recall_m: 0.9436\n",
            "Epoch 41/100\n",
            "3162/3162 [==============================] - 4s 1ms/step - loss: 0.0363 - accuracy: 0.9474 - f1_m: 0.9474 - precision_m: 0.9478 - recall_m: 0.9469 - val_loss: 0.0393 - val_accuracy: 0.9454 - val_f1_m: 0.9453 - val_precision_m: 0.9456 - val_recall_m: 0.9451\n",
            "Epoch 42/100\n",
            "3162/3162 [==============================] - 4s 1ms/step - loss: 0.0361 - accuracy: 0.9477 - f1_m: 0.9478 - precision_m: 0.9481 - recall_m: 0.9474 - val_loss: 0.0406 - val_accuracy: 0.9414 - val_f1_m: 0.9413 - val_precision_m: 0.9416 - val_recall_m: 0.9410\n",
            "Epoch 43/100\n",
            "3162/3162 [==============================] - 4s 1ms/step - loss: 0.0360 - accuracy: 0.9478 - f1_m: 0.9477 - precision_m: 0.9481 - recall_m: 0.9474 - val_loss: 0.0408 - val_accuracy: 0.9426 - val_f1_m: 0.9426 - val_precision_m: 0.9429 - val_recall_m: 0.9424\n",
            "Epoch 44/100\n",
            "3162/3162 [==============================] - 4s 1ms/step - loss: 0.0358 - accuracy: 0.9480 - f1_m: 0.9480 - precision_m: 0.9483 - recall_m: 0.9477 - val_loss: 0.0405 - val_accuracy: 0.9429 - val_f1_m: 0.9431 - val_precision_m: 0.9438 - val_recall_m: 0.9424\n",
            "Epoch 45/100\n",
            "3162/3162 [==============================] - 4s 1ms/step - loss: 0.0354 - accuracy: 0.9491 - f1_m: 0.9490 - precision_m: 0.9494 - recall_m: 0.9487 - val_loss: 0.0388 - val_accuracy: 0.9462 - val_f1_m: 0.9462 - val_precision_m: 0.9463 - val_recall_m: 0.9461\n",
            "Epoch 46/100\n",
            "3162/3162 [==============================] - 4s 1ms/step - loss: 0.0354 - accuracy: 0.9488 - f1_m: 0.9488 - precision_m: 0.9492 - recall_m: 0.9484 - val_loss: 0.0381 - val_accuracy: 0.9475 - val_f1_m: 0.9475 - val_precision_m: 0.9478 - val_recall_m: 0.9472\n",
            "Epoch 47/100\n",
            "3162/3162 [==============================] - 4s 1ms/step - loss: 0.0354 - accuracy: 0.9486 - f1_m: 0.9485 - precision_m: 0.9489 - recall_m: 0.9482 - val_loss: 0.0388 - val_accuracy: 0.9450 - val_f1_m: 0.9451 - val_precision_m: 0.9454 - val_recall_m: 0.9448\n",
            "Epoch 48/100\n",
            "3162/3162 [==============================] - 4s 1ms/step - loss: 0.0350 - accuracy: 0.9488 - f1_m: 0.9487 - precision_m: 0.9490 - recall_m: 0.9484 - val_loss: 0.0395 - val_accuracy: 0.9450 - val_f1_m: 0.9449 - val_precision_m: 0.9451 - val_recall_m: 0.9446\n",
            "Epoch 49/100\n",
            "3162/3162 [==============================] - 4s 1ms/step - loss: 0.0347 - accuracy: 0.9497 - f1_m: 0.9496 - precision_m: 0.9499 - recall_m: 0.9493 - val_loss: 0.0396 - val_accuracy: 0.9444 - val_f1_m: 0.9443 - val_precision_m: 0.9447 - val_recall_m: 0.9439\n",
            "Epoch 50/100\n",
            "3162/3162 [==============================] - 4s 1ms/step - loss: 0.0347 - accuracy: 0.9494 - f1_m: 0.9494 - precision_m: 0.9496 - recall_m: 0.9492 - val_loss: 0.0384 - val_accuracy: 0.9466 - val_f1_m: 0.9466 - val_precision_m: 0.9470 - val_recall_m: 0.9463\n",
            "Epoch 51/100\n",
            "3162/3162 [==============================] - 4s 1ms/step - loss: 0.0346 - accuracy: 0.9501 - f1_m: 0.9501 - precision_m: 0.9503 - recall_m: 0.9499 - val_loss: 0.0381 - val_accuracy: 0.9477 - val_f1_m: 0.9477 - val_precision_m: 0.9481 - val_recall_m: 0.9473\n",
            "Epoch 52/100\n",
            "3162/3162 [==============================] - 4s 1ms/step - loss: 0.0343 - accuracy: 0.9504 - f1_m: 0.9504 - precision_m: 0.9507 - recall_m: 0.9501 - val_loss: 0.0373 - val_accuracy: 0.9480 - val_f1_m: 0.9479 - val_precision_m: 0.9481 - val_recall_m: 0.9477\n",
            "Epoch 53/100\n",
            "3162/3162 [==============================] - 4s 1ms/step - loss: 0.0343 - accuracy: 0.9503 - f1_m: 0.9503 - precision_m: 0.9506 - recall_m: 0.9501 - val_loss: 0.0377 - val_accuracy: 0.9481 - val_f1_m: 0.9481 - val_precision_m: 0.9484 - val_recall_m: 0.9479\n",
            "Epoch 54/100\n",
            "3162/3162 [==============================] - 4s 1ms/step - loss: 0.0340 - accuracy: 0.9508 - f1_m: 0.9508 - precision_m: 0.9510 - recall_m: 0.9506 - val_loss: 0.0394 - val_accuracy: 0.9459 - val_f1_m: 0.9459 - val_precision_m: 0.9461 - val_recall_m: 0.9456\n",
            "Epoch 55/100\n",
            "3162/3162 [==============================] - 4s 1ms/step - loss: 0.0339 - accuracy: 0.9509 - f1_m: 0.9509 - precision_m: 0.9512 - recall_m: 0.9507 - val_loss: 0.0376 - val_accuracy: 0.9473 - val_f1_m: 0.9472 - val_precision_m: 0.9476 - val_recall_m: 0.9469\n",
            "Epoch 56/100\n",
            "3162/3162 [==============================] - 4s 1ms/step - loss: 0.0339 - accuracy: 0.9514 - f1_m: 0.9514 - precision_m: 0.9516 - recall_m: 0.9511 - val_loss: 0.0377 - val_accuracy: 0.9471 - val_f1_m: 0.9470 - val_precision_m: 0.9471 - val_recall_m: 0.9469\n",
            "Epoch 57/100\n",
            "3162/3162 [==============================] - 4s 1ms/step - loss: 0.0336 - accuracy: 0.9509 - f1_m: 0.9509 - precision_m: 0.9511 - recall_m: 0.9506 - val_loss: 0.0388 - val_accuracy: 0.9458 - val_f1_m: 0.9459 - val_precision_m: 0.9461 - val_recall_m: 0.9457\n",
            "Epoch 58/100\n",
            "3162/3162 [==============================] - 4s 1ms/step - loss: 0.0333 - accuracy: 0.9520 - f1_m: 0.9520 - precision_m: 0.9523 - recall_m: 0.9517 - val_loss: 0.0366 - val_accuracy: 0.9503 - val_f1_m: 0.9503 - val_precision_m: 0.9504 - val_recall_m: 0.9501\n",
            "Epoch 59/100\n",
            "3162/3162 [==============================] - 4s 1ms/step - loss: 0.0332 - accuracy: 0.9518 - f1_m: 0.9518 - precision_m: 0.9520 - recall_m: 0.9515 - val_loss: 0.0377 - val_accuracy: 0.9475 - val_f1_m: 0.9475 - val_precision_m: 0.9476 - val_recall_m: 0.9474\n",
            "Epoch 60/100\n",
            "3162/3162 [==============================] - 4s 1ms/step - loss: 0.0331 - accuracy: 0.9522 - f1_m: 0.9522 - precision_m: 0.9523 - recall_m: 0.9520 - val_loss: 0.0382 - val_accuracy: 0.9471 - val_f1_m: 0.9472 - val_precision_m: 0.9474 - val_recall_m: 0.9471\n",
            "Epoch 61/100\n",
            "3162/3162 [==============================] - 4s 1ms/step - loss: 0.0332 - accuracy: 0.9519 - f1_m: 0.9519 - precision_m: 0.9521 - recall_m: 0.9517 - val_loss: 0.0381 - val_accuracy: 0.9458 - val_f1_m: 0.9457 - val_precision_m: 0.9459 - val_recall_m: 0.9456\n",
            "Epoch 62/100\n",
            "3162/3162 [==============================] - 4s 1ms/step - loss: 0.0329 - accuracy: 0.9523 - f1_m: 0.9523 - precision_m: 0.9525 - recall_m: 0.9521 - val_loss: 0.0384 - val_accuracy: 0.9467 - val_f1_m: 0.9467 - val_precision_m: 0.9469 - val_recall_m: 0.9465\n",
            "Epoch 63/100\n",
            "3162/3162 [==============================] - 4s 1ms/step - loss: 0.0327 - accuracy: 0.9524 - f1_m: 0.9523 - precision_m: 0.9525 - recall_m: 0.9521 - val_loss: 0.0370 - val_accuracy: 0.9485 - val_f1_m: 0.9485 - val_precision_m: 0.9488 - val_recall_m: 0.9483\n",
            "Epoch 64/100\n",
            "3162/3162 [==============================] - 4s 1ms/step - loss: 0.0326 - accuracy: 0.9533 - f1_m: 0.9533 - precision_m: 0.9535 - recall_m: 0.9531 - val_loss: 0.0386 - val_accuracy: 0.9464 - val_f1_m: 0.9464 - val_precision_m: 0.9467 - val_recall_m: 0.9462\n",
            "Epoch 65/100\n",
            "3162/3162 [==============================] - 4s 1ms/step - loss: 0.0325 - accuracy: 0.9528 - f1_m: 0.9527 - precision_m: 0.9529 - recall_m: 0.9525 - val_loss: 0.0368 - val_accuracy: 0.9501 - val_f1_m: 0.9501 - val_precision_m: 0.9503 - val_recall_m: 0.9500\n",
            "Epoch 66/100\n",
            "3162/3162 [==============================] - 4s 1ms/step - loss: 0.0324 - accuracy: 0.9529 - f1_m: 0.9529 - precision_m: 0.9530 - recall_m: 0.9527 - val_loss: 0.0361 - val_accuracy: 0.9513 - val_f1_m: 0.9513 - val_precision_m: 0.9515 - val_recall_m: 0.9511\n",
            "Epoch 67/100\n",
            "3162/3162 [==============================] - 4s 1ms/step - loss: 0.0323 - accuracy: 0.9532 - f1_m: 0.9532 - precision_m: 0.9534 - recall_m: 0.9531 - val_loss: 0.0365 - val_accuracy: 0.9494 - val_f1_m: 0.9493 - val_precision_m: 0.9495 - val_recall_m: 0.9491\n",
            "Epoch 68/100\n",
            "3162/3162 [==============================] - 4s 1ms/step - loss: 0.0320 - accuracy: 0.9538 - f1_m: 0.9538 - precision_m: 0.9540 - recall_m: 0.9537 - val_loss: 0.0365 - val_accuracy: 0.9490 - val_f1_m: 0.9490 - val_precision_m: 0.9491 - val_recall_m: 0.9489\n",
            "Epoch 69/100\n",
            "3162/3162 [==============================] - 5s 1ms/step - loss: 0.0320 - accuracy: 0.9540 - f1_m: 0.9539 - precision_m: 0.9540 - recall_m: 0.9538 - val_loss: 0.0387 - val_accuracy: 0.9446 - val_f1_m: 0.9446 - val_precision_m: 0.9447 - val_recall_m: 0.9445\n",
            "Epoch 70/100\n",
            "3162/3162 [==============================] - 7s 2ms/step - loss: 0.0317 - accuracy: 0.9540 - f1_m: 0.9540 - precision_m: 0.9542 - recall_m: 0.9539 - val_loss: 0.0372 - val_accuracy: 0.9478 - val_f1_m: 0.9477 - val_precision_m: 0.9479 - val_recall_m: 0.9475\n",
            "Epoch 71/100\n",
            "3162/3162 [==============================] - 6s 2ms/step - loss: 0.0317 - accuracy: 0.9539 - f1_m: 0.9539 - precision_m: 0.9540 - recall_m: 0.9537 - val_loss: 0.0368 - val_accuracy: 0.9491 - val_f1_m: 0.9491 - val_precision_m: 0.9494 - val_recall_m: 0.9488\n",
            "Epoch 72/100\n",
            "3162/3162 [==============================] - 4s 1ms/step - loss: 0.0316 - accuracy: 0.9536 - f1_m: 0.9536 - precision_m: 0.9538 - recall_m: 0.9534 - val_loss: 0.0370 - val_accuracy: 0.9483 - val_f1_m: 0.9484 - val_precision_m: 0.9485 - val_recall_m: 0.9483\n",
            "Epoch 73/100\n",
            "3162/3162 [==============================] - 4s 1ms/step - loss: 0.0314 - accuracy: 0.9543 - f1_m: 0.9543 - precision_m: 0.9545 - recall_m: 0.9542 - val_loss: 0.0363 - val_accuracy: 0.9488 - val_f1_m: 0.9487 - val_precision_m: 0.9487 - val_recall_m: 0.9486\n",
            "Epoch 74/100\n",
            "3162/3162 [==============================] - 4s 1ms/step - loss: 0.0312 - accuracy: 0.9549 - f1_m: 0.9548 - precision_m: 0.9550 - recall_m: 0.9546 - val_loss: 0.0379 - val_accuracy: 0.9470 - val_f1_m: 0.9470 - val_precision_m: 0.9471 - val_recall_m: 0.9468\n",
            "Epoch 75/100\n",
            "3162/3162 [==============================] - 4s 1ms/step - loss: 0.0312 - accuracy: 0.9545 - f1_m: 0.9545 - precision_m: 0.9546 - recall_m: 0.9543 - val_loss: 0.0368 - val_accuracy: 0.9476 - val_f1_m: 0.9475 - val_precision_m: 0.9476 - val_recall_m: 0.9474\n",
            "Epoch 76/100\n",
            "3162/3162 [==============================] - 4s 1ms/step - loss: 0.0312 - accuracy: 0.9548 - f1_m: 0.9548 - precision_m: 0.9550 - recall_m: 0.9546 - val_loss: 0.0358 - val_accuracy: 0.9507 - val_f1_m: 0.9507 - val_precision_m: 0.9509 - val_recall_m: 0.9506\n",
            "Epoch 77/100\n",
            "3162/3162 [==============================] - 5s 1ms/step - loss: 0.0310 - accuracy: 0.9548 - f1_m: 0.9548 - precision_m: 0.9550 - recall_m: 0.9546 - val_loss: 0.0373 - val_accuracy: 0.9483 - val_f1_m: 0.9484 - val_precision_m: 0.9485 - val_recall_m: 0.9482\n",
            "Epoch 78/100\n",
            "3162/3162 [==============================] - 5s 1ms/step - loss: 0.0310 - accuracy: 0.9552 - f1_m: 0.9552 - precision_m: 0.9554 - recall_m: 0.9551 - val_loss: 0.0359 - val_accuracy: 0.9517 - val_f1_m: 0.9517 - val_precision_m: 0.9517 - val_recall_m: 0.9516\n",
            "Epoch 79/100\n",
            "3162/3162 [==============================] - 4s 1ms/step - loss: 0.0310 - accuracy: 0.9547 - f1_m: 0.9547 - precision_m: 0.9548 - recall_m: 0.9545 - val_loss: 0.0365 - val_accuracy: 0.9492 - val_f1_m: 0.9493 - val_precision_m: 0.9493 - val_recall_m: 0.9493\n",
            "Epoch 80/100\n",
            "3162/3162 [==============================] - 4s 1ms/step - loss: 0.0307 - accuracy: 0.9552 - f1_m: 0.9552 - precision_m: 0.9553 - recall_m: 0.9551 - val_loss: 0.0355 - val_accuracy: 0.9500 - val_f1_m: 0.9500 - val_precision_m: 0.9502 - val_recall_m: 0.9498\n",
            "Epoch 81/100\n",
            "3162/3162 [==============================] - 4s 1ms/step - loss: 0.0307 - accuracy: 0.9554 - f1_m: 0.9554 - precision_m: 0.9556 - recall_m: 0.9552 - val_loss: 0.0369 - val_accuracy: 0.9496 - val_f1_m: 0.9496 - val_precision_m: 0.9498 - val_recall_m: 0.9494\n",
            "Epoch 82/100\n",
            "3162/3162 [==============================] - 4s 1ms/step - loss: 0.0305 - accuracy: 0.9558 - f1_m: 0.9558 - precision_m: 0.9559 - recall_m: 0.9556 - val_loss: 0.0360 - val_accuracy: 0.9501 - val_f1_m: 0.9502 - val_precision_m: 0.9503 - val_recall_m: 0.9500\n",
            "Epoch 83/100\n",
            "3162/3162 [==============================] - 4s 1ms/step - loss: 0.0305 - accuracy: 0.9557 - f1_m: 0.9556 - precision_m: 0.9558 - recall_m: 0.9555 - val_loss: 0.0352 - val_accuracy: 0.9507 - val_f1_m: 0.9507 - val_precision_m: 0.9508 - val_recall_m: 0.9505\n",
            "Epoch 84/100\n",
            "3162/3162 [==============================] - 4s 1ms/step - loss: 0.0304 - accuracy: 0.9557 - f1_m: 0.9557 - precision_m: 0.9558 - recall_m: 0.9555 - val_loss: 0.0356 - val_accuracy: 0.9502 - val_f1_m: 0.9501 - val_precision_m: 0.9503 - val_recall_m: 0.9500\n",
            "Epoch 85/100\n",
            "3162/3162 [==============================] - 4s 1ms/step - loss: 0.0305 - accuracy: 0.9559 - f1_m: 0.9559 - precision_m: 0.9561 - recall_m: 0.9557 - val_loss: 0.0365 - val_accuracy: 0.9492 - val_f1_m: 0.9492 - val_precision_m: 0.9493 - val_recall_m: 0.9492\n",
            "Epoch 86/100\n",
            "3162/3162 [==============================] - 4s 1ms/step - loss: 0.0302 - accuracy: 0.9561 - f1_m: 0.9561 - precision_m: 0.9562 - recall_m: 0.9560 - val_loss: 0.0357 - val_accuracy: 0.9497 - val_f1_m: 0.9498 - val_precision_m: 0.9498 - val_recall_m: 0.9497\n",
            "Epoch 87/100\n",
            "3162/3162 [==============================] - 4s 1ms/step - loss: 0.0302 - accuracy: 0.9566 - f1_m: 0.9566 - precision_m: 0.9567 - recall_m: 0.9565 - val_loss: 0.0350 - val_accuracy: 0.9508 - val_f1_m: 0.9509 - val_precision_m: 0.9509 - val_recall_m: 0.9508\n",
            "Epoch 88/100\n",
            "3162/3162 [==============================] - 4s 1ms/step - loss: 0.0301 - accuracy: 0.9569 - f1_m: 0.9569 - precision_m: 0.9570 - recall_m: 0.9567 - val_loss: 0.0360 - val_accuracy: 0.9507 - val_f1_m: 0.9507 - val_precision_m: 0.9507 - val_recall_m: 0.9506\n",
            "Epoch 89/100\n",
            "3162/3162 [==============================] - 4s 1ms/step - loss: 0.0300 - accuracy: 0.9564 - f1_m: 0.9564 - precision_m: 0.9565 - recall_m: 0.9563 - val_loss: 0.0347 - val_accuracy: 0.9519 - val_f1_m: 0.9519 - val_precision_m: 0.9521 - val_recall_m: 0.9518\n",
            "Epoch 90/100\n",
            "3162/3162 [==============================] - 4s 1ms/step - loss: 0.0299 - accuracy: 0.9563 - f1_m: 0.9563 - precision_m: 0.9564 - recall_m: 0.9562 - val_loss: 0.0352 - val_accuracy: 0.9531 - val_f1_m: 0.9532 - val_precision_m: 0.9533 - val_recall_m: 0.9530\n",
            "Epoch 91/100\n",
            "3162/3162 [==============================] - 4s 1ms/step - loss: 0.0297 - accuracy: 0.9566 - f1_m: 0.9566 - precision_m: 0.9567 - recall_m: 0.9564 - val_loss: 0.0361 - val_accuracy: 0.9496 - val_f1_m: 0.9496 - val_precision_m: 0.9499 - val_recall_m: 0.9493\n",
            "Epoch 92/100\n",
            "3162/3162 [==============================] - 4s 1ms/step - loss: 0.0295 - accuracy: 0.9572 - f1_m: 0.9572 - precision_m: 0.9573 - recall_m: 0.9570 - val_loss: 0.0349 - val_accuracy: 0.9524 - val_f1_m: 0.9525 - val_precision_m: 0.9527 - val_recall_m: 0.9523\n",
            "Epoch 93/100\n",
            "3162/3162 [==============================] - 4s 1ms/step - loss: 0.0297 - accuracy: 0.9563 - f1_m: 0.9563 - precision_m: 0.9564 - recall_m: 0.9562 - val_loss: 0.0362 - val_accuracy: 0.9500 - val_f1_m: 0.9501 - val_precision_m: 0.9502 - val_recall_m: 0.9500\n",
            "Epoch 94/100\n",
            "3162/3162 [==============================] - 4s 1ms/step - loss: 0.0295 - accuracy: 0.9571 - f1_m: 0.9571 - precision_m: 0.9572 - recall_m: 0.9570 - val_loss: 0.0357 - val_accuracy: 0.9512 - val_f1_m: 0.9513 - val_precision_m: 0.9514 - val_recall_m: 0.9511\n",
            "Epoch 95/100\n",
            "3162/3162 [==============================] - 4s 1ms/step - loss: 0.0294 - accuracy: 0.9572 - f1_m: 0.9571 - precision_m: 0.9573 - recall_m: 0.9570 - val_loss: 0.0360 - val_accuracy: 0.9498 - val_f1_m: 0.9498 - val_precision_m: 0.9499 - val_recall_m: 0.9497\n",
            "Epoch 96/100\n",
            "3162/3162 [==============================] - 4s 1ms/step - loss: 0.0296 - accuracy: 0.9572 - f1_m: 0.9572 - precision_m: 0.9573 - recall_m: 0.9571 - val_loss: 0.0342 - val_accuracy: 0.9539 - val_f1_m: 0.9538 - val_precision_m: 0.9539 - val_recall_m: 0.9537\n",
            "Epoch 97/100\n",
            "3162/3162 [==============================] - 4s 1ms/step - loss: 0.0295 - accuracy: 0.9575 - f1_m: 0.9575 - precision_m: 0.9576 - recall_m: 0.9574 - val_loss: 0.0358 - val_accuracy: 0.9500 - val_f1_m: 0.9501 - val_precision_m: 0.9502 - val_recall_m: 0.9500\n",
            "Epoch 98/100\n",
            "3162/3162 [==============================] - 4s 1ms/step - loss: 0.0292 - accuracy: 0.9577 - f1_m: 0.9577 - precision_m: 0.9578 - recall_m: 0.9576 - val_loss: 0.0347 - val_accuracy: 0.9508 - val_f1_m: 0.9509 - val_precision_m: 0.9510 - val_recall_m: 0.9507\n",
            "Epoch 99/100\n",
            "3162/3162 [==============================] - 4s 1ms/step - loss: 0.0292 - accuracy: 0.9574 - f1_m: 0.9574 - precision_m: 0.9575 - recall_m: 0.9573 - val_loss: 0.0349 - val_accuracy: 0.9520 - val_f1_m: 0.9520 - val_precision_m: 0.9522 - val_recall_m: 0.9519\n",
            "Epoch 100/100\n",
            "3162/3162 [==============================] - 4s 1ms/step - loss: 0.0289 - accuracy: 0.9582 - f1_m: 0.9581 - precision_m: 0.9582 - recall_m: 0.9580 - val_loss: 0.0370 - val_accuracy: 0.9477 - val_f1_m: 0.9477 - val_precision_m: 0.9479 - val_recall_m: 0.9476\n"
          ],
          "name": "stdout"
        }
      ]
    },
    {
      "cell_type": "code",
      "metadata": {
        "id": "LgEkzDHw1SNc",
        "outputId": "abe35176-6203-4c85-e179-a60981403f0d",
        "colab": {
          "base_uri": "https://localhost:8080/",
          "height": 295
        }
      },
      "source": [
        "import matplotlib.pyplot as plt\n",
        "\n",
        "plt.plot(hist.history['loss'])\n",
        "plt.plot(hist.history['val_loss'])\n",
        "plt.title('Model loss')\n",
        "plt.ylabel('Loss')\n",
        "plt.xlabel('Epoch')\n",
        "plt.legend(['Train', 'Val'], loc='upper right')\n",
        "plt.show()"
      ],
      "execution_count": 21,
      "outputs": [
        {
          "output_type": "display_data",
          "data": {
            "image/png": "[encoded data removed]",
            "text/plain": [
              "<Figure size 432x288 with 1 Axes>"
            ]
          },
          "metadata": {
            "tags": [],
            "needs_background": "light"
          }
        }
      ]
    },
    {
      "cell_type": "code",
      "metadata": {
        "id": "F3Jp_9cW1n_H",
        "outputId": "2097fe92-2e1a-415e-e027-b2984fda0104",
        "colab": {
          "base_uri": "https://localhost:8080/",
          "height": 295
        }
      },
      "source": [
        "plt.plot(hist.history['accuracy'])\n",
        "plt.plot(hist.history['val_accuracy'])\n",
        "plt.plot(hist.history['f1_m'])\n",
        "plt.plot(hist.history['val_f1_m'])\n",
        "plt.title('Model accuracy and F1 score')\n",
        "plt.ylabel('Accuracy')\n",
        "plt.xlabel('Epoch')\n",
        "plt.legend(['Train acc', 'Val acc', 'F1', 'val F1'], loc='lower right')\n",
        "plt.show()"
      ],
      "execution_count": 23,
      "outputs": [
        {
          "output_type": "display_data",
          "data": {
            "image/png": "[encoded data removed]",
            "text/plain": [
              "<Figure size 432x288 with 1 Axes>"
            ]
          },
          "metadata": {
            "tags": [],
            "needs_background": "light"
          }
        }
      ]
    }
  ]
}